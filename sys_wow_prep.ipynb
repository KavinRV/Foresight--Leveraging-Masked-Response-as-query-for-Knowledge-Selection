{
 "cells": [
  {
   "cell_type": "code",
   "execution_count": 1,
   "id": "f2b7b24c",
   "metadata": {},
   "outputs": [
    {
     "name": "stdout",
     "output_type": "stream",
     "text": [
      "Fri Aug 25 19:07:54 2023       \n",
      "+-----------------------------------------------------------------------------+\n",
      "| NVIDIA-SMI 450.191.01   Driver Version: 450.191.01   CUDA Version: 11.0     |\n",
      "|-------------------------------+----------------------+----------------------+\n",
      "| GPU  Name        Persistence-M| Bus-Id        Disp.A | Volatile Uncorr. ECC |\n",
      "| Fan  Temp  Perf  Pwr:Usage/Cap|         Memory-Usage | GPU-Util  Compute M. |\n",
      "|                               |                      |               MIG M. |\n",
      "|===============================+======================+======================|\n",
      "|   0  Tesla V100-SXM2...  On   | 00000000:06:00.0 Off |                    0 |\n",
      "| N/A   50C    P0   250W / 300W |  17353MiB / 32510MiB |     97%      Default |\n",
      "|                               |                      |                  N/A |\n",
      "+-------------------------------+----------------------+----------------------+\n",
      "|   1  Tesla V100-SXM2...  On   | 00000000:07:00.0 Off |                    0 |\n",
      "| N/A   35C    P0    58W / 300W |  31376MiB / 32510MiB |      0%      Default |\n",
      "|                               |                      |                  N/A |\n",
      "+-------------------------------+----------------------+----------------------+\n",
      "|   2  Tesla V100-SXM2...  On   | 00000000:0A:00.0 Off |                    0 |\n",
      "| N/A   30C    P0    57W / 300W |  16364MiB / 32510MiB |      0%      Default |\n",
      "|                               |                      |                  N/A |\n",
      "+-------------------------------+----------------------+----------------------+\n",
      "|   3  Tesla V100-SXM2...  On   | 00000000:0B:00.0 Off |                    0 |\n",
      "| N/A   26C    P0    57W / 300W |  20298MiB / 32510MiB |      0%      Default |\n",
      "|                               |                      |                  N/A |\n",
      "+-------------------------------+----------------------+----------------------+\n",
      "|   4  Tesla V100-SXM2...  On   | 00000000:85:00.0 Off |                    0 |\n",
      "| N/A   52C    P0   252W / 300W |  17827MiB / 32510MiB |    100%      Default |\n",
      "|                               |                      |                  N/A |\n",
      "+-------------------------------+----------------------+----------------------+\n",
      "|   5  Tesla V100-SXM2...  On   | 00000000:86:00.0 Off |                    0 |\n",
      "| N/A   55C    P0    99W / 300W |  17345MiB / 32510MiB |    100%      Default |\n",
      "|                               |                      |                  N/A |\n",
      "+-------------------------------+----------------------+----------------------+\n",
      "|   6  Tesla V100-SXM2...  On   | 00000000:89:00.0 Off |                    0 |\n",
      "| N/A   47C    P0   172W / 300W |   7846MiB / 32510MiB |     53%      Default |\n",
      "|                               |                      |                  N/A |\n",
      "+-------------------------------+----------------------+----------------------+\n",
      "|   7  Tesla V100-SXM2...  On   | 00000000:8A:00.0 Off |                    0 |\n",
      "| N/A   48C    P0   270W / 300W |  29765MiB / 32510MiB |     83%      Default |\n",
      "|                               |                      |                  N/A |\n",
      "+-------------------------------+----------------------+----------------------+\n",
      "                                                                               \n",
      "+-----------------------------------------------------------------------------+\n",
      "| Processes:                                                                  |\n",
      "|  GPU   GI   CI        PID   Type   Process name                  GPU Memory |\n",
      "|        ID   ID                                                   Usage      |\n",
      "|=============================================================================|\n",
      "|    0   N/A  N/A    255937      C   .../envs/minigpt4/bin/python     2195MiB |\n",
      "|    0   N/A  N/A    327807      C   .../envs/minigpt4/bin/python     2057MiB |\n",
      "|    0   N/A  N/A   2495813      C   python3                         10315MiB |\n",
      "|    0   N/A  N/A   2674540      C   python3                          2757MiB |\n",
      "|    1   N/A  N/A    255937      C   .../envs/minigpt4/bin/python     2357MiB |\n",
      "|    1   N/A  N/A    327807      C   .../envs/minigpt4/bin/python     2221MiB |\n",
      "|    1   N/A  N/A   3004709      C   .../envs/minigpt4/bin/python    26793MiB |\n",
      "|    2   N/A  N/A    255937      C   .../envs/minigpt4/bin/python     2347MiB |\n",
      "|    2   N/A  N/A    327807      C   .../envs/minigpt4/bin/python     2221MiB |\n",
      "|    2   N/A  N/A   2699088      C   python                          11791MiB |\n",
      "|    3   N/A  N/A    255937      C   .../envs/minigpt4/bin/python     2357MiB |\n",
      "|    3   N/A  N/A    327807      C   .../envs/minigpt4/bin/python     2221MiB |\n",
      "|    3   N/A  N/A   2590979      C   python                          15715MiB |\n",
      "|    4   N/A  N/A    255937      C   .../envs/minigpt4/bin/python     2357MiB |\n",
      "|    4   N/A  N/A    327807      C   .../envs/minigpt4/bin/python     2221MiB |\n",
      "|    4   N/A  N/A   2495813      C   python3                         10407MiB |\n",
      "|    4   N/A  N/A   2674540      C   python3                          2813MiB |\n",
      "|    5   N/A  N/A    255937      C   .../envs/minigpt4/bin/python     2211MiB |\n",
      "|    5   N/A  N/A    327807      C   .../envs/minigpt4/bin/python     2221MiB |\n",
      "|    5   N/A  N/A   2495813      C   python3                         10239MiB |\n",
      "|    5   N/A  N/A   2674540      C   python3                          2645MiB |\n",
      "|    6   N/A  N/A    255937      C   .../envs/minigpt4/bin/python     2221MiB |\n",
      "|    6   N/A  N/A    327807      C   .../envs/minigpt4/bin/python     2221MiB |\n",
      "|    6   N/A  N/A   2693622      C   python                           3397MiB |\n",
      "|    7   N/A  N/A    255937      C   .../envs/minigpt4/bin/python     8425MiB |\n",
      "|    7   N/A  N/A    327807      C   .../envs/minigpt4/bin/python     8425MiB |\n",
      "|    7   N/A  N/A   2495813      C   python3                         10239MiB |\n",
      "|    7   N/A  N/A   2674540      C   python3                          2645MiB |\n",
      "+-----------------------------------------------------------------------------+\n"
     ]
    }
   ],
   "source": [
    "!nvidia-smi"
   ]
  },
  {
   "cell_type": "code",
   "execution_count": 2,
   "id": "ce6eec4c",
   "metadata": {},
   "outputs": [],
   "source": [
    "import os\n",
    "os.environ[\"CUDA_VISIBLE_DEVICES\"] = \"6\""
   ]
  },
  {
   "cell_type": "code",
   "execution_count": 3,
   "id": "0032283f",
   "metadata": {},
   "outputs": [],
   "source": [
    "from datasets import Dataset, DatasetDict\n",
    "\n",
    "wow = DatasetDict.load_from_disk(\"wow\")\n",
    "wow_gen = DatasetDict.load_from_disk(\"generated_data\")"
   ]
  },
  {
   "cell_type": "code",
   "execution_count": 7,
   "id": "724feeb2",
   "metadata": {},
   "outputs": [],
   "source": [
    "d = DatasetDict()"
   ]
  },
  {
   "cell_type": "code",
   "execution_count": 8,
   "id": "651af486",
   "metadata": {},
   "outputs": [
    {
     "data": {
      "text/plain": [
       "DatasetDict({\n",
       "    \n",
       "})"
      ]
     },
     "execution_count": 8,
     "metadata": {},
     "output_type": "execute_result"
    }
   ],
   "source": [
    "d"
   ]
  },
  {
   "cell_type": "code",
   "execution_count": null,
   "id": "c4e88e0d",
   "metadata": {},
   "outputs": [],
   "source": []
  }
 ],
 "metadata": {
  "kernelspec": {
   "display_name": "wow",
   "language": "python",
   "name": "wow"
  },
  "language_info": {
   "codemirror_mode": {
    "name": "ipython",
    "version": 3
   },
   "file_extension": ".py",
   "mimetype": "text/x-python",
   "name": "python",
   "nbconvert_exporter": "python",
   "pygments_lexer": "ipython3",
   "version": "3.10.9"
  }
 },
 "nbformat": 4,
 "nbformat_minor": 5
}
